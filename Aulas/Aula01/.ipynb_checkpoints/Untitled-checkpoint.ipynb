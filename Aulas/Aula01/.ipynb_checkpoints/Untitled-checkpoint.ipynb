{
 "cells": [
  {
   "cell_type": "code",
   "execution_count": 1,
   "id": "038e102e-8ee1-40b9-9ea2-6f7ad65d1ea5",
   "metadata": {},
   "outputs": [
    {
     "name": "stdout",
     "output_type": "stream",
     "text": [
      "print = imprime\n"
     ]
    }
   ],
   "source": [
    "print(\"print = imprime\")"
   ]
  },
  {
   "cell_type": "markdown",
   "id": "759b01ce-6c72-4be2-9a77-16c5034b0688",
   "metadata": {},
   "source": [
    "Comandos \n",
    "\n",
    "print = imprime\n",
    "\n",
    "Shift + Enter = Roda a célula"
   ]
  },
  {
   "cell_type": "code",
   "execution_count": 8,
   "id": "98ee4274-2217-4f5f-aaf5-2c2d9a18ee23",
   "metadata": {},
   "outputs": [
    {
     "name": "stdout",
     "output_type": "stream",
     "text": [
      "Caixa D'água.\n"
     ]
    }
   ],
   "source": [
    "print(\"Caixa D'água.\")"
   ]
  },
  {
   "cell_type": "code",
   "execution_count": 11,
   "id": "57722a2e-5150-4de6-951f-dd48ae8cc938",
   "metadata": {},
   "outputs": [
    {
     "name": "stdout",
     "output_type": "stream",
     "text": [
      "12\n"
     ]
    }
   ],
   "source": [
    "print( 10 + 2 )"
   ]
  },
  {
   "cell_type": "code",
   "execution_count": 12,
   "id": "e9dadc2f-d65e-4d4a-a3ef-b1b91f5cff97",
   "metadata": {},
   "outputs": [
    {
     "name": "stdout",
     "output_type": "stream",
     "text": [
      "Idade: 9\n"
     ]
    }
   ],
   "source": [
    "print(\"Idade:\",9)"
   ]
  },
  {
   "cell_type": "code",
   "execution_count": 20,
   "id": "a6c79fed-5665-428f-86fd-ba01c6a939db",
   "metadata": {},
   "outputs": [
    {
     "name": "stdout",
     "output_type": "stream",
     "text": [
      "9\n"
     ]
    }
   ],
   "source": [
    "idade = 9 # var \n",
    "print(idade)"
   ]
  },
  {
   "cell_type": "code",
   "execution_count": 21,
   "id": "1211e028-6e55-4800-b815-140ae137224d",
   "metadata": {},
   "outputs": [
    {
     "name": "stdout",
     "output_type": "stream",
     "text": [
      "Qual sua idade?\n"
     ]
    },
    {
     "name": "stdin",
     "output_type": "stream",
     "text": [
      "None 10\n"
     ]
    },
    {
     "name": "stdout",
     "output_type": "stream",
     "text": [
      "Você tem 10 anos.\n"
     ]
    }
   ],
   "source": [
    "idade = input(print(\"Qual sua idade?\"))\n",
    "print(\"Você tem\", idade, \"anos.\")\n"
   ]
  },
  {
   "cell_type": "code",
   "execution_count": 27,
   "id": "28340a96-2cc1-4fa4-bfe7-d461afbb3a46",
   "metadata": {},
   "outputs": [
    {
     "name": "stdout",
     "output_type": "stream",
     "text": [
      "Qual seu nome?\n"
     ]
    },
    {
     "name": "stdin",
     "output_type": "stream",
     "text": [
      "None Paulo\n"
     ]
    },
    {
     "name": "stdout",
     "output_type": "stream",
     "text": [
      "Em que ano você nasceu?\n"
     ]
    },
    {
     "name": "stdin",
     "output_type": "stream",
     "text": [
      "None 1995\n"
     ]
    },
    {
     "name": "stdout",
     "output_type": "stream",
     "text": [
      "Em que ano estamos?\n"
     ]
    },
    {
     "name": "stdin",
     "output_type": "stream",
     "text": [
      "None 2024\n"
     ]
    },
    {
     "name": "stdout",
     "output_type": "stream",
     "text": [
      "Você Paulo tem: 29 anos!\n"
     ]
    }
   ],
   "source": [
    "nome = input(print(\"Qual seu nome?\"))\n",
    "nascimento = input(print(\"Em que ano você nasceu?\"))\n",
    "dataAtual = input(print(\"Em que ano estamos?\"))\n",
    "idade = int(dataAtual) - int(nascimento) \n",
    "print(\"Você\",nome,\"tem:\",idade,\"anos!\")"
   ]
  },
  {
   "cell_type": "code",
   "execution_count": null,
   "id": "b3ac5ce3-1916-4acf-9f02-f335ad76bf80",
   "metadata": {},
   "outputs": [],
   "source": []
  }
 ],
 "metadata": {
  "kernelspec": {
   "display_name": "Python 3 (ipykernel)",
   "language": "python",
   "name": "python3"
  },
  "language_info": {
   "codemirror_mode": {
    "name": "ipython",
    "version": 3
   },
   "file_extension": ".py",
   "mimetype": "text/x-python",
   "name": "python",
   "nbconvert_exporter": "python",
   "pygments_lexer": "ipython3",
   "version": "3.11.7"
  }
 },
 "nbformat": 4,
 "nbformat_minor": 5
}
