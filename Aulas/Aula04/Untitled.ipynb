{
 "cells": [
  {
   "cell_type": "markdown",
   "id": "235e65cd-9837-4d90-b2f9-d900308cb0a0",
   "metadata": {},
   "source": [
    "# String "
   ]
  },
  {
   "cell_type": "code",
   "execution_count": 27,
   "id": "4ba5f71e-b82f-466a-8377-cee0802b0b1c",
   "metadata": {},
   "outputs": [
    {
     "name": "stdout",
     "output_type": "stream",
     "text": [
      "Meu nome é MINORU YAMANAKA e Sou curioso\n"
     ]
    }
   ],
   "source": [
    "nome = \"Minoru Yamanaka\"\n",
    "adjetivo = \"Sou curioso\"\n",
    "print(f\"Meu nome é {nome.upper()} e {adjetivo}\")"
   ]
  },
  {
   "cell_type": "code",
   "execution_count": 25,
   "id": "2f37098d-2df8-414e-b0db-073d4c65c49a",
   "metadata": {},
   "outputs": [
    {
     "name": "stdout",
     "output_type": "stream",
     "text": [
      "Meu nome é: MINORU YAMANAKA e Sou curioso\n"
     ]
    }
   ],
   "source": [
    "nome = \"Minoru Yamanaka\"\n",
    "frase = \"Sou curioso\"\n",
    "print(f\"Meu nome é: \" + nome.upper() + \" e \" + frase)"
   ]
  },
  {
   "cell_type": "code",
   "execution_count": 30,
   "id": "6c3d24cb-ae8b-470b-a6d3-7604cbf90454",
   "metadata": {},
   "outputs": [
    {
     "name": "stdout",
     "output_type": "stream",
     "text": [
      "Meu nome é MINORU YAMANAKA e tenho 28 e Sou curioso\n"
     ]
    }
   ],
   "source": [
    "idade = 28\n",
    "\n",
    "nome = \"Minoru Yamanaka\"\n",
    "adjetivo = \"Sou curioso\"\n",
    "print(f\"Meu nome é {nome.upper()} e tenho {idade} e {adjetivo}\")"
   ]
  },
  {
   "cell_type": "code",
   "execution_count": 36,
   "id": "c6196bec-b784-490f-8979-5d750eba0169",
   "metadata": {},
   "outputs": [
    {
     "name": "stdout",
     "output_type": "stream",
     "text": [
      "Qual seu nome ?\n"
     ]
    },
    {
     "name": "stdin",
     "output_type": "stream",
     "text": [
      "None minoru\n"
     ]
    },
    {
     "name": "stdout",
     "output_type": "stream",
     "text": [
      "Qual sua linguagem preferida?\n"
     ]
    },
    {
     "name": "stdin",
     "output_type": "stream",
     "text": [
      "None java \n"
     ]
    },
    {
     "name": "stdout",
     "output_type": "stream",
     "text": [
      "Quantos anos você tem ?\n"
     ]
    },
    {
     "name": "stdin",
     "output_type": "stream",
     "text": [
      "None 29\n"
     ]
    },
    {
     "name": "stdout",
     "output_type": "stream",
     "text": [
      "Seu nome é MINORU e você tem 29 anos e você curte programar em java \n"
     ]
    }
   ],
   "source": [
    "nome = input(print(\"Qual seu nome ?\"));\n",
    "linguagem = input(print(\"Qual sua linguagem preferida?\"));\n",
    "idade = input(print(\"Quantos anos você tem ?\"));\n",
    "\n",
    "frase = f\"Seu nome é {nome.upper()} e você tem {idade} anos e você curte programar em {linguagem}\";\n",
    "print(frase)"
   ]
  },
  {
   "cell_type": "markdown",
   "id": "4156cea1-31b9-464d-be3e-41aa261b4cc0",
   "metadata": {},
   "source": [
    "# Métodos do tipo String "
   ]
  },
  {
   "cell_type": "markdown",
   "id": "654cdd35-cf5e-4cf9-b953-64dbefb15d68",
   "metadata": {},
   "source": [
    "## split()"
   ]
  },
  {
   "cell_type": "code",
   "execution_count": 40,
   "id": "1d67e6c7-29e6-421a-88bc-ed8ba46aeb7d",
   "metadata": {},
   "outputs": [
    {
     "name": "stdout",
     "output_type": "stream",
     "text": [
      "['Meu', 'nome', 'é', 'MINORU', 'YAMANAKA', 'e', 'tenho', '28', 'e', 'Sou', 'curioso']\n"
     ]
    }
   ],
   "source": [
    "idade = 28;\n",
    "nome = \"Minoru Yamanaka\";\n",
    "adjetivo = \"Sou curioso\";\n",
    "frase = f\"Meu nome é {nome.upper()}, tenho {idade} e {adjetivo}\";\n",
    "frase_lista = frase.split()\n",
    "print(frase_lista)\n"
   ]
  },
  {
   "cell_type": "markdown",
   "id": "5de8e688-1de6-4969-b3db-71a587985ce8",
   "metadata": {},
   "source": [
    "## strip()"
   ]
  },
  {
   "cell_type": "code",
   "execution_count": 47,
   "id": "faff7843-7c3c-4e7b-9d52-a26bfe98c46d",
   "metadata": {},
   "outputs": [
    {
     "name": "stdout",
     "output_type": "stream",
     "text": [
      "Meu nome é MINORU YAMANAKA, tenho 28 e Sou curioso\n"
     ]
    }
   ],
   "source": [
    "# strip() usado para retirar vazios antes e depois \n",
    "\n",
    "idade = 28;\n",
    "nome = \"Minoru Yamanaka\";\n",
    "adjetivo = \"Sou curioso\";\n",
    "frase = f\" Meu nome é {nome.upper()}, tenho {idade} e {adjetivo} \";\n",
    "frase_lista = frase.strip()\n",
    "print(frase_lista)\n"
   ]
  },
  {
   "cell_type": "code",
   "execution_count": 50,
   "id": "b14e76eb-f620-4871-8e9c-523dec70d394",
   "metadata": {},
   "outputs": [
    {
     "data": {
      "text/plain": [
       "False"
      ]
     },
     "execution_count": 50,
     "metadata": {},
     "output_type": "execute_result"
    }
   ],
   "source": [
    "frase_lista == frase"
   ]
  },
  {
   "cell_type": "code",
   "execution_count": 51,
   "id": "5e60b7ba-771f-40e2-a593-9c47de620244",
   "metadata": {},
   "outputs": [
    {
     "data": {
      "text/plain": [
       "True"
      ]
     },
     "execution_count": 51,
     "metadata": {},
     "output_type": "execute_result"
    }
   ],
   "source": [
    "frase_lista == frase.strip()"
   ]
  },
  {
   "cell_type": "markdown",
   "id": "9cbeb777-487b-424d-9e9a-eb3da7dc9a0b",
   "metadata": {},
   "source": [
    "## Capitalize()"
   ]
  },
  {
   "cell_type": "code",
   "execution_count": 53,
   "id": "b473b2e4-300a-423f-8e84-426389a11cbd",
   "metadata": {},
   "outputs": [
    {
     "data": {
      "text/plain": [
       "'Meu nome é minoru yamanaka, tenho 28 e sou curioso'"
      ]
     },
     "execution_count": 53,
     "metadata": {},
     "output_type": "execute_result"
    }
   ],
   "source": [
    "# Formata a primeira letra da String para maiúsculo \n",
    "frase_lista.capitalize()"
   ]
  },
  {
   "cell_type": "code",
   "execution_count": 54,
   "id": "d927294d-1855-49c0-b902-b3ad43ee3140",
   "metadata": {},
   "outputs": [
    {
     "data": {
      "text/plain": [
       "'meu nome é minoru yamanaka, tenho 28 e sou curioso'"
      ]
     },
     "execution_count": 54,
     "metadata": {},
     "output_type": "execute_result"
    }
   ],
   "source": [
    "# Tudo em minúsculo \n",
    "frase_lista.lower()"
   ]
  },
  {
   "cell_type": "code",
   "execution_count": 55,
   "id": "f5d18667-5950-4f96-951e-428f539fa2df",
   "metadata": {},
   "outputs": [
    {
     "data": {
      "text/plain": [
       "'MEU NOME É MINORU YAMANAKA, TENHO 28 E SOU CURIOSO'"
      ]
     },
     "execution_count": 55,
     "metadata": {},
     "output_type": "execute_result"
    }
   ],
   "source": [
    "# Tudo em maiúsculo \n",
    "frase_lista.upper()"
   ]
  },
  {
   "cell_type": "code",
   "execution_count": 56,
   "id": "14ba81e6-9310-44d5-a754-dc794efc4fde",
   "metadata": {},
   "outputs": [
    {
     "data": {
      "text/plain": [
       "'Meu Nome É Minoru Yamanaka, Tenho 28 E Sou Curioso'"
      ]
     },
     "execution_count": 56,
     "metadata": {},
     "output_type": "execute_result"
    }
   ],
   "source": [
    "# primeira letra de cada palavra da str \n",
    "frase_lista.title()"
   ]
  },
  {
   "cell_type": "markdown",
   "id": "618f1d90-7de1-49a2-8821-ed10729ae9a5",
   "metadata": {},
   "source": [
    "# Slicing (fatiamento)"
   ]
  },
  {
   "cell_type": "code",
   "execution_count": 76,
   "id": "2232b8b3-abb2-4c36-be1b-181a41640ebb",
   "metadata": {},
   "outputs": [
    {
     "data": {
      "text/plain": [
       "' '"
      ]
     },
     "execution_count": 76,
     "metadata": {},
     "output_type": "execute_result"
    }
   ],
   "source": [
    "frase_lista[3]"
   ]
  },
  {
   "cell_type": "code",
   "execution_count": 83,
   "id": "d809a4ae-ff47-4d6f-94e3-6e2ee7dfe282",
   "metadata": {},
   "outputs": [
    {
     "data": {
      "text/plain": [
       "'Meu'"
      ]
     },
     "execution_count": 83,
     "metadata": {},
     "output_type": "execute_result"
    }
   ],
   "source": [
    "frase_lista[0:3]"
   ]
  },
  {
   "cell_type": "code",
   "execution_count": 141,
   "id": "1f8d2e43-2c99-4e35-939a-be0a6bd4547a",
   "metadata": {},
   "outputs": [
    {
     "data": {
      "text/plain": [
       "'10001'"
      ]
     },
     "execution_count": 141,
     "metadata": {},
     "output_type": "execute_result"
    }
   ],
   "source": [
    "info_cliente = \"10001JõaoGonçalvesAv.AmadorBueno301SenaiAryTorres(11)985074029\"\n",
    "info_cliente[0:5]\n"
   ]
  },
  {
   "cell_type": "code",
   "execution_count": 142,
   "id": "8acfb851-8b6c-4286-bb3e-f16dca0b29e7",
   "metadata": {},
   "outputs": [
    {
     "data": {
      "text/plain": [
       "'JõaoGonçalves'"
      ]
     },
     "execution_count": 142,
     "metadata": {},
     "output_type": "execute_result"
    }
   ],
   "source": [
    "info_cliente[5:18]\n",
    "\n"
   ]
  },
  {
   "cell_type": "code",
   "execution_count": 143,
   "id": "e2406067-d224-4e6b-ba1d-86a811c5f533",
   "metadata": {},
   "outputs": [
    {
     "data": {
      "text/plain": [
       "'J'"
      ]
     },
     "execution_count": 143,
     "metadata": {},
     "output_type": "execute_result"
    }
   ],
   "source": [
    "info_cliente[5]"
   ]
  },
  {
   "cell_type": "code",
   "execution_count": 144,
   "id": "75ae9a38-0a23-42ad-baad-c12f2ba77656",
   "metadata": {},
   "outputs": [
    {
     "data": {
      "text/plain": [
       "'920470589)11(serroTyrAianeS103oneuBrodamA.vAsevlaçnoGoaõJ10001'"
      ]
     },
     "execution_count": 144,
     "metadata": {},
     "output_type": "execute_result"
    }
   ],
   "source": [
    "info_cliente[::-1]"
   ]
  },
  {
   "cell_type": "code",
   "execution_count": 151,
   "id": "7f490fed-1490-454f-b679-e203f4f41e7e",
   "metadata": {},
   "outputs": [
    {
     "data": {
      "text/plain": [
       "62"
      ]
     },
     "execution_count": 151,
     "metadata": {},
     "output_type": "execute_result"
    }
   ],
   "source": [
    "info_cliente = \"10001JõaoGonçalvesAv.AmadorBueno301SenaiAryTorres(11)985074029\"\n",
    "len(info_cliente)"
   ]
  },
  {
   "cell_type": "code",
   "execution_count": 152,
   "id": "bd96bac7-5096-4028-80f5-dd0c3796e4a7",
   "metadata": {},
   "outputs": [
    {
     "data": {
      "text/plain": [
       "str"
      ]
     },
     "execution_count": 152,
     "metadata": {},
     "output_type": "execute_result"
    }
   ],
   "source": [
    "type(info_cliente)"
   ]
  },
  {
   "cell_type": "code",
   "execution_count": null,
   "id": "ff6b5ce7-9088-46a6-9c12-c3d407c31903",
   "metadata": {},
   "outputs": [],
   "source": []
  }
 ],
 "metadata": {
  "kernelspec": {
   "display_name": "Python 3 (ipykernel)",
   "language": "python",
   "name": "python3"
  },
  "language_info": {
   "codemirror_mode": {
    "name": "ipython",
    "version": 3
   },
   "file_extension": ".py",
   "mimetype": "text/x-python",
   "name": "python",
   "nbconvert_exporter": "python",
   "pygments_lexer": "ipython3",
   "version": "3.11.7"
  }
 },
 "nbformat": 4,
 "nbformat_minor": 5
}
