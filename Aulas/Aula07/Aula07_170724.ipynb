{
 "cells": [
  {
   "cell_type": "markdown",
   "id": "ffb4e98e-809b-41c1-9ebf-fc4da3fd34ce",
   "metadata": {},
   "source": [
    "# Dicionários "
   ]
  },
  {
   "cell_type": "code",
   "execution_count": 12,
   "id": "1d722c61-9c40-43ed-ab6b-1edc3d1bb7ae",
   "metadata": {},
   "outputs": [
    {
     "name": "stdout",
     "output_type": "stream",
     "text": [
      "{'nome': 'Gabriel', 'idade': 27, 'salario': 25547.11, 'estado': 'São Paulo', 'linguagem': 'Python', 'boolean': True}\n"
     ]
    }
   ],
   "source": [
    "dados = {\n",
    "    \"nome\":\"Gabriel\", \n",
    "    \"idade\":27,\n",
    "    \"salario\":25547.11,\n",
    "    \"estado\":\"São Paulo\",\n",
    "    \"linguagem\":\"Python\",\n",
    "    \"boolean\":True\n",
    "        }\n",
    "print(dados)"
   ]
  },
  {
   "cell_type": "code",
   "execution_count": 13,
   "id": "9bb0d908-3765-4bb6-a549-4d8f4694b6b8",
   "metadata": {},
   "outputs": [
    {
     "name": "stdout",
     "output_type": "stream",
     "text": [
      "{'nome': 'Gabriel', 'idade': 27, 'salario': 25547.11, 'estado': 'São Paulo', 'linguagem': 'Python', 'boolean': True}\n"
     ]
    }
   ],
   "source": [
    "print(dados)"
   ]
  },
  {
   "cell_type": "code",
   "execution_count": 14,
   "id": "17f09b74-8ec5-4ee1-b021-8f155b01cc08",
   "metadata": {},
   "outputs": [
    {
     "data": {
      "text/plain": [
       "{'nome': 'Gabriel',\n",
       " 'idade': 27,\n",
       " 'salario': 25547.11,\n",
       " 'estado': 'São Paulo',\n",
       " 'linguagem': 'Python',\n",
       " 'boolean': True}"
      ]
     },
     "execution_count": 14,
     "metadata": {},
     "output_type": "execute_result"
    }
   ],
   "source": [
    "dados"
   ]
  },
  {
   "cell_type": "code",
   "execution_count": 15,
   "id": "f6753d65-f943-4112-832a-70def6b56246",
   "metadata": {},
   "outputs": [
    {
     "data": {
      "text/plain": [
       "dict"
      ]
     },
     "execution_count": 15,
     "metadata": {},
     "output_type": "execute_result"
    }
   ],
   "source": [
    "type(dados) # dict = dicionário baseado em chaves e valores "
   ]
  },
  {
   "cell_type": "code",
   "execution_count": 16,
   "id": "01827ac8-1b54-4d0f-b962-53ab190af02d",
   "metadata": {},
   "outputs": [
    {
     "data": {
      "text/plain": [
       "dict_keys(['nome', 'idade', 'salario', 'estado', 'linguagem', 'boolean'])"
      ]
     },
     "execution_count": 16,
     "metadata": {},
     "output_type": "execute_result"
    }
   ],
   "source": [
    "dados.keys()"
   ]
  },
  {
   "cell_type": "code",
   "execution_count": 17,
   "id": "01d6c604-c620-409d-bb6d-888451595250",
   "metadata": {},
   "outputs": [
    {
     "data": {
      "text/plain": [
       "dict_values(['Gabriel', 27, 25547.11, 'São Paulo', 'Python', True])"
      ]
     },
     "execution_count": 17,
     "metadata": {},
     "output_type": "execute_result"
    }
   ],
   "source": [
    "dados.values()"
   ]
  },
  {
   "cell_type": "code",
   "execution_count": 22,
   "id": "a1306ae6-c8a3-4ff2-801b-421a674afb5f",
   "metadata": {},
   "outputs": [
    {
     "data": {
      "text/plain": [
       "25547.11"
      ]
     },
     "execution_count": 22,
     "metadata": {},
     "output_type": "execute_result"
    }
   ],
   "source": [
    "dados[\"salario\"]"
   ]
  },
  {
   "cell_type": "code",
   "execution_count": 23,
   "id": "c5892dff-e8ff-4e53-85e7-ddee84dbec40",
   "metadata": {},
   "outputs": [
    {
     "data": {
      "text/plain": [
       "'São Paulo'"
      ]
     },
     "execution_count": 23,
     "metadata": {},
     "output_type": "execute_result"
    }
   ],
   "source": [
    "dados[\"estado\"]"
   ]
  },
  {
   "cell_type": "code",
   "execution_count": 26,
   "id": "fc1d9ce3-926d-447f-a5a4-8d4d404b52fc",
   "metadata": {},
   "outputs": [],
   "source": [
    "dados[\"nacionalidade\"]=\"Brasileira\""
   ]
  },
  {
   "cell_type": "code",
   "execution_count": 27,
   "id": "e3b80198-a2f3-447d-bb37-4eaa9932b0ba",
   "metadata": {},
   "outputs": [
    {
     "data": {
      "text/plain": [
       "{'nome': 'Gabriel',\n",
       " 'idade': 27,\n",
       " 'salario': 25547.11,\n",
       " 'estado': 'São Paulo',\n",
       " 'linguagem': 'Python',\n",
       " 'boolean': True,\n",
       " 'nacionalidade': 'Brasileira'}"
      ]
     },
     "execution_count": 27,
     "metadata": {},
     "output_type": "execute_result"
    }
   ],
   "source": [
    "dados"
   ]
  },
  {
   "cell_type": "code",
   "execution_count": 28,
   "id": "744a6605-769d-4c02-b55a-9103898dcd9f",
   "metadata": {},
   "outputs": [],
   "source": [
    "dados[\"idade\"] = 33"
   ]
  },
  {
   "cell_type": "code",
   "execution_count": 29,
   "id": "555f857b-07bc-4bea-b2f5-3da316af34b2",
   "metadata": {},
   "outputs": [
    {
     "data": {
      "text/plain": [
       "{'nome': 'Gabriel',\n",
       " 'idade': 33,\n",
       " 'salario': 25547.11,\n",
       " 'estado': 'São Paulo',\n",
       " 'linguagem': 'Python',\n",
       " 'boolean': True,\n",
       " 'nacionalidade': 'Brasileira'}"
      ]
     },
     "execution_count": 29,
     "metadata": {},
     "output_type": "execute_result"
    }
   ],
   "source": [
    "dados"
   ]
  },
  {
   "cell_type": "code",
   "execution_count": 30,
   "id": "2607c3d8-38f7-4854-bd8a-f6708ec8306e",
   "metadata": {},
   "outputs": [
    {
     "data": {
      "text/plain": [
       "True"
      ]
     },
     "execution_count": 30,
     "metadata": {},
     "output_type": "execute_result"
    }
   ],
   "source": [
    "dados.pop(\"boolean\")"
   ]
  },
  {
   "cell_type": "code",
   "execution_count": 31,
   "id": "f64197ca-65be-42cf-a6ba-147739ddd7c1",
   "metadata": {},
   "outputs": [
    {
     "data": {
      "text/plain": [
       "{'nome': 'Gabriel',\n",
       " 'idade': 33,\n",
       " 'salario': 25547.11,\n",
       " 'estado': 'São Paulo',\n",
       " 'linguagem': 'Python',\n",
       " 'nacionalidade': 'Brasileira'}"
      ]
     },
     "execution_count": 31,
     "metadata": {},
     "output_type": "execute_result"
    }
   ],
   "source": [
    "dados"
   ]
  },
  {
   "cell_type": "code",
   "execution_count": 34,
   "id": "68a052bc-0aeb-479c-a2dd-c8ee6d675a0c",
   "metadata": {},
   "outputs": [
    {
     "data": {
      "text/plain": [
       "('nacionalidade', 'Brasileira')"
      ]
     },
     "execution_count": 34,
     "metadata": {},
     "output_type": "execute_result"
    }
   ],
   "source": [
    "dados.popitem()"
   ]
  },
  {
   "cell_type": "code",
   "execution_count": 35,
   "id": "05345f8d-8b1e-40c8-87f0-8fbeb761f94c",
   "metadata": {},
   "outputs": [
    {
     "data": {
      "text/plain": [
       "{'nome': 'Gabriel',\n",
       " 'idade': 33,\n",
       " 'salario': 25547.11,\n",
       " 'estado': 'São Paulo',\n",
       " 'linguagem': 'Python'}"
      ]
     },
     "execution_count": 35,
     "metadata": {},
     "output_type": "execute_result"
    }
   ],
   "source": [
    "dados"
   ]
  },
  {
   "cell_type": "code",
   "execution_count": 36,
   "id": "bb228fe6-c269-4e8b-9d01-7d8eb40a7eb5",
   "metadata": {},
   "outputs": [],
   "source": [
    "del dados[\"linguagem\"]"
   ]
  },
  {
   "cell_type": "code",
   "execution_count": 37,
   "id": "4410f0db-05e0-4f2b-8004-db978b1220ee",
   "metadata": {},
   "outputs": [
    {
     "data": {
      "text/plain": [
       "{'nome': 'Gabriel', 'idade': 33, 'salario': 25547.11, 'estado': 'São Paulo'}"
      ]
     },
     "execution_count": 37,
     "metadata": {},
     "output_type": "execute_result"
    }
   ],
   "source": [
    "dados"
   ]
  },
  {
   "cell_type": "code",
   "execution_count": 40,
   "id": "fc0465ba-00a0-4f42-9478-771858161d0e",
   "metadata": {},
   "outputs": [],
   "source": [
    "dados.clear()"
   ]
  },
  {
   "cell_type": "code",
   "execution_count": 41,
   "id": "8727ab45-c62f-44a3-80a7-3a665cd6c7d1",
   "metadata": {},
   "outputs": [
    {
     "data": {
      "text/plain": [
       "{}"
      ]
     },
     "execution_count": 41,
     "metadata": {},
     "output_type": "execute_result"
    }
   ],
   "source": [
    "dados"
   ]
  },
  {
   "cell_type": "code",
   "execution_count": 42,
   "id": "70e82eca-064f-4b01-af39-9dcbc1bad43e",
   "metadata": {},
   "outputs": [],
   "source": [
    "dados={\n",
    "\"nome\":\"Bruna\",\n",
    "\"status\":True,\n",
    "\"notas\": [10, 9.8, 7.7, 4.9]\n",
    "\n",
    "    \n",
    "}"
   ]
  },
  {
   "cell_type": "code",
   "execution_count": 43,
   "id": "62a1d412-38dd-420c-8675-2a41838fa919",
   "metadata": {},
   "outputs": [
    {
     "data": {
      "text/plain": [
       "{'nome': 'Bruna', 'status': True, 'notas': [10, 9.8, 7.7, 4.9]}"
      ]
     },
     "execution_count": 43,
     "metadata": {},
     "output_type": "execute_result"
    }
   ],
   "source": [
    "dados"
   ]
  },
  {
   "cell_type": "code",
   "execution_count": 44,
   "id": "d6f34a39-5f30-452d-b79b-c87932521fad",
   "metadata": {},
   "outputs": [
    {
     "data": {
      "text/plain": [
       "[10, 9.8, 7.7, 4.9]"
      ]
     },
     "execution_count": 44,
     "metadata": {},
     "output_type": "execute_result"
    }
   ],
   "source": [
    "dados[\"notas\"]"
   ]
  },
  {
   "cell_type": "code",
   "execution_count": 45,
   "id": "1a769108-b779-468e-a1ea-f9aea541cc9c",
   "metadata": {},
   "outputs": [
    {
     "data": {
      "text/plain": [
       "4.9"
      ]
     },
     "execution_count": 45,
     "metadata": {},
     "output_type": "execute_result"
    }
   ],
   "source": [
    "dados[\"notas\"][-1]"
   ]
  },
  {
   "cell_type": "code",
   "execution_count": 47,
   "id": "63d3c4ea-0e18-4ea1-862c-dbbfa295aac0",
   "metadata": {},
   "outputs": [
    {
     "data": {
      "text/plain": [
       "32.4"
      ]
     },
     "execution_count": 47,
     "metadata": {},
     "output_type": "execute_result"
    }
   ],
   "source": [
    "(dados[\"notas\"][0]+\n",
    "dados[\"notas\"][1]+\n",
    "dados[\"notas\"][2]+\n",
    "dados[\"notas\"][3])"
   ]
  },
  {
   "cell_type": "code",
   "execution_count": 49,
   "id": "5d585cf0-5ff1-41a1-b64b-624b8fa5208a",
   "metadata": {},
   "outputs": [
    {
     "data": {
      "text/plain": [
       "8.1"
      ]
     },
     "execution_count": 49,
     "metadata": {},
     "output_type": "execute_result"
    }
   ],
   "source": [
    "(dados[\"notas\"][0]+\n",
    "dados[\"notas\"][1]+\n",
    "dados[\"notas\"][2]+\n",
    "dados[\"notas\"][3])/4"
   ]
  },
  {
   "cell_type": "markdown",
   "id": "ea5d437c-cb57-46f4-acbf-94f629d0c39d",
   "metadata": {},
   "source": [
    "# Tuplas"
   ]
  },
  {
   "cell_type": "code",
   "execution_count": 51,
   "id": "06c84e5a-2abd-445b-b949-180fec8db8bf",
   "metadata": {},
   "outputs": [],
   "source": [
    "numeros = (1,2,3,4,5,6,7,8,9,)"
   ]
  },
  {
   "cell_type": "code",
   "execution_count": 52,
   "id": "15fe403e-6682-4634-913b-e734f484a217",
   "metadata": {},
   "outputs": [
    {
     "data": {
      "text/plain": [
       "(1, 2, 3, 4, 5, 6, 7, 8, 9)"
      ]
     },
     "execution_count": 52,
     "metadata": {},
     "output_type": "execute_result"
    }
   ],
   "source": [
    "numeros"
   ]
  },
  {
   "cell_type": "code",
   "execution_count": 53,
   "id": "39d775df-a92d-40ae-acaa-e0e027898a11",
   "metadata": {},
   "outputs": [
    {
     "data": {
      "text/plain": [
       "tuple"
      ]
     },
     "execution_count": 53,
     "metadata": {},
     "output_type": "execute_result"
    }
   ],
   "source": [
    "type(numeros)"
   ]
  },
  {
   "cell_type": "code",
   "execution_count": 56,
   "id": "f79ec0f3-2614-431d-a6ee-67d3584f116a",
   "metadata": {},
   "outputs": [
    {
     "data": {
      "text/plain": [
       "9"
      ]
     },
     "execution_count": 56,
     "metadata": {},
     "output_type": "execute_result"
    }
   ],
   "source": [
    "numeros[8]"
   ]
  },
  {
   "cell_type": "code",
   "execution_count": 63,
   "id": "3a9fd1de-51f8-49ad-a24c-2076e531045a",
   "metadata": {},
   "outputs": [],
   "source": [
    "pessoas=(\"José\", 34, \"João\", 46,\"Mariana\", 16, \"Beth\", 44)"
   ]
  },
  {
   "cell_type": "code",
   "execution_count": 64,
   "id": "5440d6cc-affe-42e6-a1a7-f9d466ec1415",
   "metadata": {},
   "outputs": [
    {
     "data": {
      "text/plain": [
       "('José', 34, 'João', 46, 'Mariana', 16, 'Beth', 44)"
      ]
     },
     "execution_count": 64,
     "metadata": {},
     "output_type": "execute_result"
    }
   ],
   "source": [
    "pessoas"
   ]
  },
  {
   "cell_type": "code",
   "execution_count": 65,
   "id": "fcea5ff4-f82d-49ef-816c-eb77236d76e3",
   "metadata": {},
   "outputs": [
    {
     "data": {
      "text/plain": [
       "tuple"
      ]
     },
     "execution_count": 65,
     "metadata": {},
     "output_type": "execute_result"
    }
   ],
   "source": [
    "type(pessoas)"
   ]
  },
  {
   "cell_type": "code",
   "execution_count": 66,
   "id": "c6c12e21-6a5d-4b86-b6bc-2f448ed4de3e",
   "metadata": {},
   "outputs": [
    {
     "data": {
      "text/plain": [
       "46"
      ]
     },
     "execution_count": 66,
     "metadata": {},
     "output_type": "execute_result"
    }
   ],
   "source": [
    "pessoas[3]"
   ]
  },
  {
   "cell_type": "code",
   "execution_count": 67,
   "id": "8c591567-f164-4e8f-8f2e-4c9e05f93bfe",
   "metadata": {},
   "outputs": [
    {
     "data": {
      "text/plain": [
       "16"
      ]
     },
     "execution_count": 67,
     "metadata": {},
     "output_type": "execute_result"
    }
   ],
   "source": [
    "pessoas[5]"
   ]
  },
  {
   "cell_type": "code",
   "execution_count": 68,
   "id": "a1b0bd18-2e1b-4871-9c03-84f0c31dd56d",
   "metadata": {},
   "outputs": [
    {
     "data": {
      "text/plain": [
       "16"
      ]
     },
     "execution_count": 68,
     "metadata": {},
     "output_type": "execute_result"
    }
   ],
   "source": [
    "pessoas[-3]"
   ]
  },
  {
   "cell_type": "code",
   "execution_count": 73,
   "id": "797a00c4-a280-409b-b041-39fa48c4820f",
   "metadata": {},
   "outputs": [
    {
     "ename": "TypeError",
     "evalue": "'tuple' object doesn't support item deletion",
     "output_type": "error",
     "traceback": [
      "\u001b[1;31m---------------------------------------------------------------------------\u001b[0m",
      "\u001b[1;31mTypeError\u001b[0m                                 Traceback (most recent call last)",
      "Cell \u001b[1;32mIn[73], line 1\u001b[0m\n\u001b[1;32m----> 1\u001b[0m \u001b[38;5;28;01mdel\u001b[39;00m pessoas[\u001b[38;5;241m1\u001b[39m]\n",
      "\u001b[1;31mTypeError\u001b[0m: 'tuple' object doesn't support item deletion"
     ]
    }
   ],
   "source": [
    "del pessoas[1]"
   ]
  },
  {
   "cell_type": "markdown",
   "id": "b47635e3-b88d-47b2-9ab6-45b840466894",
   "metadata": {},
   "source": [
    "# Sets (conjuntos)"
   ]
  },
  {
   "cell_type": "code",
   "execution_count": 78,
   "id": "2c147534-985c-4bb4-bd9a-23a911572e9e",
   "metadata": {},
   "outputs": [],
   "source": [
    "conjunto1 = {1,2,3,4,5}"
   ]
  },
  {
   "cell_type": "code",
   "execution_count": 86,
   "id": "fd49fecc-6847-4509-8f95-c5095c8e45e7",
   "metadata": {},
   "outputs": [
    {
     "name": "stdout",
     "output_type": "stream",
     "text": [
      "{1, 2, 3, 4, 5, 10}\n"
     ]
    }
   ],
   "source": [
    "print(conjunto1)"
   ]
  },
  {
   "cell_type": "code",
   "execution_count": 80,
   "id": "b7bc02aa-75b9-4668-a532-cb716c62c604",
   "metadata": {},
   "outputs": [
    {
     "data": {
      "text/plain": [
       "set"
      ]
     },
     "execution_count": 80,
     "metadata": {},
     "output_type": "execute_result"
    }
   ],
   "source": [
    "type(conjunto1)"
   ]
  },
  {
   "cell_type": "code",
   "execution_count": 81,
   "id": "97ba8fa7-3c2f-4f92-8738-b850faa1c628",
   "metadata": {},
   "outputs": [],
   "source": [
    "conjunto2 = {1,2,2,2,3,4,5,6,}"
   ]
  },
  {
   "cell_type": "code",
   "execution_count": 90,
   "id": "c302a13d-a60f-4baa-9f78-373dc110c511",
   "metadata": {},
   "outputs": [
    {
     "name": "stdout",
     "output_type": "stream",
     "text": [
      "{1, 2, 3, 4, 6}\n"
     ]
    }
   ],
   "source": [
    "print(conjunto2)"
   ]
  },
  {
   "cell_type": "code",
   "execution_count": 85,
   "id": "a2bf7650-aebc-4efe-8603-1a62c1475f7b",
   "metadata": {},
   "outputs": [],
   "source": [
    "conjunto1.add(10)"
   ]
  },
  {
   "cell_type": "code",
   "execution_count": 89,
   "id": "2c979fba-715b-4fe3-91e2-48fc2b6d699c",
   "metadata": {},
   "outputs": [],
   "source": [
    "conjunto2.remove(5)"
   ]
  },
  {
   "cell_type": "code",
   "execution_count": 94,
   "id": "3a96cad2-489c-4b3e-bc5a-8f6c19905f67",
   "metadata": {},
   "outputs": [
    {
     "data": {
      "text/plain": [
       "{1, 2, 3, 4, 5, 6, 10}"
      ]
     },
     "execution_count": 94,
     "metadata": {},
     "output_type": "execute_result"
    }
   ],
   "source": [
    "conjunto1.union(conjunto2)"
   ]
  },
  {
   "cell_type": "code",
   "execution_count": 95,
   "id": "ab48547d-7d47-4ed6-ac3f-41792d07cdd5",
   "metadata": {},
   "outputs": [
    {
     "data": {
      "text/plain": [
       "{1, 2, 3, 4}"
      ]
     },
     "execution_count": 95,
     "metadata": {},
     "output_type": "execute_result"
    }
   ],
   "source": [
    "conjunto1.intersection(conjunto2)"
   ]
  },
  {
   "cell_type": "code",
   "execution_count": 96,
   "id": "9e6534a2-969e-4483-b45d-32cd9e240dc8",
   "metadata": {},
   "outputs": [
    {
     "data": {
      "text/plain": [
       "{5, 10}"
      ]
     },
     "execution_count": 96,
     "metadata": {},
     "output_type": "execute_result"
    }
   ],
   "source": [
    "conjunto1.difference(conjunto2)"
   ]
  },
  {
   "cell_type": "code",
   "execution_count": 97,
   "id": "748be154-0219-4702-aea0-9b2b80d92add",
   "metadata": {},
   "outputs": [
    {
     "data": {
      "text/plain": [
       "{6}"
      ]
     },
     "execution_count": 97,
     "metadata": {},
     "output_type": "execute_result"
    }
   ],
   "source": [
    "conjunto2.difference(conjunto1)"
   ]
  },
  {
   "cell_type": "code",
   "execution_count": null,
   "id": "cc9f2947-1e84-4298-8845-ca09ba2c6b69",
   "metadata": {},
   "outputs": [],
   "source": []
  }
 ],
 "metadata": {
  "kernelspec": {
   "display_name": "Python 3 (ipykernel)",
   "language": "python",
   "name": "python3"
  },
  "language_info": {
   "codemirror_mode": {
    "name": "ipython",
    "version": 3
   },
   "file_extension": ".py",
   "mimetype": "text/x-python",
   "name": "python",
   "nbconvert_exporter": "python",
   "pygments_lexer": "ipython3",
   "version": "3.11.7"
  }
 },
 "nbformat": 4,
 "nbformat_minor": 5
}
