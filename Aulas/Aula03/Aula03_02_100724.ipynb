{
 "cells": [
  {
   "cell_type": "markdown",
   "id": "b62c6794-c135-44bb-99cf-97747612fe28",
   "metadata": {},
   "source": [
    "# Operadores relacionais"
   ]
  },
  {
   "cell_type": "markdown",
   "id": "ec6c6e35-4007-437a-8410-d522600e12fd",
   "metadata": {},
   "source": [
    "- \\> maior \n",
    "- < menor \n",
    "- == igual\n",
    "- \\>= maior ou igual \n",
    "- <= menor ou igual\n",
    "- != diferente \n"
   ]
  },
  {
   "cell_type": "code",
   "execution_count": 1,
   "id": "ec347739-f5ee-44ed-addb-d825b96bee30",
   "metadata": {},
   "outputs": [
    {
     "data": {
      "text/plain": [
       "False"
      ]
     },
     "execution_count": 1,
     "metadata": {},
     "output_type": "execute_result"
    }
   ],
   "source": [
    "10 > 20"
   ]
  },
  {
   "cell_type": "code",
   "execution_count": 3,
   "id": "c7f7a79f-d04a-48f1-83c1-eba8e3337eda",
   "metadata": {},
   "outputs": [
    {
     "data": {
      "text/plain": [
       "False"
      ]
     },
     "execution_count": 3,
     "metadata": {},
     "output_type": "execute_result"
    }
   ],
   "source": [
    "10 != 10"
   ]
  },
  {
   "cell_type": "code",
   "execution_count": 5,
   "id": "336957e6-55cf-4159-aa69-c06ec80548ef",
   "metadata": {},
   "outputs": [
    {
     "data": {
      "text/plain": [
       "False"
      ]
     },
     "execution_count": 5,
     "metadata": {},
     "output_type": "execute_result"
    }
   ],
   "source": [
    "\"João\" == \"joão\""
   ]
  },
  {
   "cell_type": "markdown",
   "id": "e3cad47b-d8b5-4da5-bc22-ad87e1fe5047",
   "metadata": {},
   "source": [
    "# Operadores Lógicos "
   ]
  },
  {
   "cell_type": "markdown",
   "id": "f96c66f2-0ec6-4dbb-95d1-af2ab7d0fc71",
   "metadata": {},
   "source": [
    "- AND \n",
    "- OR\n",
    "- NOT"
   ]
  },
  {
   "cell_type": "markdown",
   "id": "25f4f50f-7d86-41b1-adf2-4da28985f3fa",
   "metadata": {},
   "source": [
    "tabela verdade em formato Markdown para você. Vamos considerar algumas proposições lógicas e seus valores verdadeiros (V) ou falsos (F):\n",
    "\n",
    "1. **Negação (¬)**:\n",
    "   - A negação de uma proposição **p** é representada por **~p**.\n",
    "   - Exemplo:\n",
    "     ```markdown\n",
    "     | p   | ~p  |\n",
    "     | --- | --- |\n",
    "     | V   | F   |\n",
    "     | F   | V   |\n",
    "     ```\n",
    "2. **Conjunção (p ∧ q)**:\n",
    "   - A conjunção de duas proposições **p** e **q** é representada por **p ∧ q**.\n",
    "   - Exemplo:\n",
    "     ```markdown\n",
    "     | p   | q   | p ∧ q |\n",
    "     | --- | --- | ----- |\n",
    "     | V   | V   | V     |\n",
    "     | V   | F   | F     |\n",
    "     | F   | V   | F     |\n",
    "     | F   | F   | F     |\n",
    "     ```\n",
    "3. **Disjunção (p ∨ q)**:\n",
    "   - A disjunção de duas proposições **p** e **q** é representada por **p ∨ q**.\n",
    "   - Exemplo:\n",
    "     ```markdown\n",
    "     | p   | q   | p ∨ q |\n",
    "     | --- | --- | ----- |\n",
    "     | V   | V   | V     |\n",
    "     | V   | F   | V     |\n",
    "     | F   | V   | V     |\n",
    "     | F   | F   | F     |\n",
    "     ```\n",
    "4. **Condicional (p → q)**:\n",
    "   - O condicional de **p** para **q** é representado por **p → q**.\n",
    "   - Exemplo:\n",
    "     ```markdown\n",
    "     | p   | q   | p → q |\n",
    "     | --- | --- | ----- |\n",
    "     | V   | V   | V     |\n",
    "     | V   | F   | F     |\n",
    "     | F   | V   | V     |\n",
    "     | F   | F   | V     |\n",
    "     ```\n",
    "5. **Bicondicional (p ↔ q)**:\n",
    "   - O bicondicional entre **p** e **q** é representado por **p ↔ q**.\n",
    "   - Exemplo:\n",
    "     ```markdown\n",
    "     | p   | q   | p ↔ q |\n",
    "     | --- | --- | ----- |\n",
    "     | V   | V   | V     |\n",
    "     | V   | F   | F     |\n",
    "     | F   | V   | F     |\n",
    "     | F   | F   | V     |\n",
    "     ```"
   ]
  },
  {
   "cell_type": "code",
   "execution_count": 10,
   "id": "59ef4f91-9d91-437a-888b-329acca4b6c9",
   "metadata": {},
   "outputs": [
    {
     "data": {
      "text/plain": [
       "False"
      ]
     },
     "execution_count": 10,
     "metadata": {},
     "output_type": "execute_result"
    }
   ],
   "source": [
    "10 > 20 and 20 > 20 # and "
   ]
  },
  {
   "cell_type": "code",
   "execution_count": 13,
   "id": "4d2d9399-0d2d-4347-8f46-cde9c1d70339",
   "metadata": {},
   "outputs": [
    {
     "data": {
      "text/plain": [
       "True"
      ]
     },
     "execution_count": 13,
     "metadata": {},
     "output_type": "execute_result"
    }
   ],
   "source": [
    "10 < 20 and 20 < 30 # and "
   ]
  },
  {
   "cell_type": "code",
   "execution_count": 12,
   "id": "fdec58c2-aaef-4bfd-b4a1-6bcefdd6ce44",
   "metadata": {},
   "outputs": [
    {
     "data": {
      "text/plain": [
       "True"
      ]
     },
     "execution_count": 12,
     "metadata": {},
     "output_type": "execute_result"
    }
   ],
   "source": [
    "1 < 2 or 3 > 6 # or"
   ]
  },
  {
   "cell_type": "code",
   "execution_count": 15,
   "id": "35120824-21d4-4b83-bbb5-b18f004a5553",
   "metadata": {},
   "outputs": [
    {
     "data": {
      "text/plain": [
       "False"
      ]
     },
     "execution_count": 15,
     "metadata": {},
     "output_type": "execute_result"
    }
   ],
   "source": [
    "not True # not True NEGAÇÃO"
   ]
  },
  {
   "cell_type": "code",
   "execution_count": 17,
   "id": "6d62a5e8-9f99-4723-b316-cd7214bf1e20",
   "metadata": {},
   "outputs": [
    {
     "data": {
      "text/plain": [
       "False"
      ]
     },
     "execution_count": 17,
     "metadata": {},
     "output_type": "execute_result"
    }
   ],
   "source": [
    "1 > 10 "
   ]
  },
  {
   "cell_type": "code",
   "execution_count": 18,
   "id": "3901b457-f09c-46ce-8374-6bcd9a227445",
   "metadata": {},
   "outputs": [
    {
     "data": {
      "text/plain": [
       "True"
      ]
     },
     "execution_count": 18,
     "metadata": {},
     "output_type": "execute_result"
    }
   ],
   "source": [
    "not 1 > 10"
   ]
  },
  {
   "cell_type": "code",
   "execution_count": null,
   "id": "9fa086dd-05a2-4ae2-bd8f-fa93b7de0eb5",
   "metadata": {},
   "outputs": [],
   "source": []
  }
 ],
 "metadata": {
  "kernelspec": {
   "display_name": "Python 3 (ipykernel)",
   "language": "python",
   "name": "python3"
  },
  "language_info": {
   "codemirror_mode": {
    "name": "ipython",
    "version": 3
   },
   "file_extension": ".py",
   "mimetype": "text/x-python",
   "name": "python",
   "nbconvert_exporter": "python",
   "pygments_lexer": "ipython3",
   "version": "3.11.7"
  }
 },
 "nbformat": 4,
 "nbformat_minor": 5
}
