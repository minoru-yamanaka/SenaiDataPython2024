{
 "cells": [
  {
   "cell_type": "markdown",
   "metadata": {
    "id": "J0WOBxWxUz1b"
   },
   "source": [
    "# 1-Utilizando as funções `print()` e `input()`"
   ]
  },
  {
   "cell_type": "markdown",
   "metadata": {
    "id": "3syMgo2DVOJi"
   },
   "source": [
    "1.1 - Crie um script que solicite ao usuário o seu nome e em seguida imprima a frase: **\"`nome do usuário`, seja muito bem vindo(a)!\"**"
   ]
  },
  {
   "cell_type": "code",
   "execution_count": 2,
   "metadata": {
    "id": "vLoggIrlVkIx"
   },
   "outputs": [
    {
     "name": "stdout",
     "output_type": "stream",
     "text": [
      "Insira seu nome: \n"
     ]
    },
    {
     "name": "stdin",
     "output_type": "stream",
     "text": [
      "None minoru\n"
     ]
    },
    {
     "name": "stdout",
     "output_type": "stream",
     "text": [
      "minoru, seja muito bem vindo(a)!\n"
     ]
    }
   ],
   "source": [
    "nome_de_usuario = input(print(\"Insira seu nome: \"));\n",
    "print(f\"{nome_de_usuario}, seja muito bem vindo(a)!\");"
   ]
  },
  {
   "cell_type": "markdown",
   "metadata": {
    "id": "NL8RIN2KXQPY",
    "jp-MarkdownHeadingCollapsed": true
   },
   "source": [
    "# 2-Operadores aritméticos"
   ]
  },
  {
   "cell_type": "markdown",
   "metadata": {
    "id": "4RdK6FZbXuBD"
   },
   "source": [
    "2.1 - Utilize o Python para calcular a média das notas de uma prova de matemática.\n",
    "\n",
    "- **Nota 1:** 7.8\n",
    "- **Nota 2:** 8.9\n",
    "- **Nota 3:** 8.3"
   ]
  },
  {
   "cell_type": "code",
   "execution_count": 4,
   "metadata": {
    "id": "LX_XlIXKYJms"
   },
   "outputs": [
    {
     "name": "stdout",
     "output_type": "stream",
     "text": [
      "Insira a nota do 1° semestre \n"
     ]
    },
    {
     "name": "stdin",
     "output_type": "stream",
     "text": [
      "None 01\n"
     ]
    },
    {
     "name": "stdout",
     "output_type": "stream",
     "text": [
      "Insira a nota do 2° semestre \n"
     ]
    },
    {
     "name": "stdin",
     "output_type": "stream",
     "text": [
      "None 02\n"
     ]
    },
    {
     "name": "stdout",
     "output_type": "stream",
     "text": [
      "Sua nota final é : 1.5\n"
     ]
    }
   ],
   "source": [
    "nota_01 = float(input(print(\"Insira a nota do 1° semestre \")));\n",
    "nota_02 =  float(input(print(\"Insira a nota do 2° semestre \")));\n",
    "nota_final = [nota_01, nota_02];\n",
    "nota_final = sum(nota_final)/len(nota_final);\n",
    "print(f\"Sua nota final é : {nota_final}\")\n"
   ]
  },
  {
   "cell_type": "markdown",
   "metadata": {
    "id": "lgc_HjuQYKPX"
   },
   "source": [
    "2.2 - Sabemos que a fórmula para calcular a área de um retângulo é **A = b.h**, onde:\n",
    "\n",
    "- **A** é a área a ser calculada\n",
    "- **b** é o comprimento da base \n",
    "- **h** o comprimento da altura. \n",
    "\n",
    "Dado o retângulo abaixo, utilize o Python para calcular a sua área.\n",
    "\n",
    "![image.png](data:image/png;base64,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)"
   ]
  },
  {
   "cell_type": "code",
   "execution_count": 7,
   "metadata": {},
   "outputs": [
    {
     "name": "stdout",
     "output_type": "stream",
     "text": [
      "A área é : 120\n"
     ]
    }
   ],
   "source": [
    "b = 10;\n",
    "h = 12;\n",
    "A = b*h;\n",
    "print(f\"A área é : {A}\")"
   ]
  },
  {
   "cell_type": "markdown",
   "metadata": {
    "id": "q2AXqlQuY-3j"
   },
   "source": [
    "2.3 - Utilize a linguagem Python para calcular a seguinte expressão matemática:\n",
    "\n",
    "$$\n",
    "\\begin{aligned}\n",
    "x & = 20 * 7 +  4^2  / 4 \\\\\n",
    "\\end{aligned}\n",
    "$$"
   ]
  },
  {
   "cell_type": "code",
   "execution_count": 51,
   "metadata": {},
   "outputs": [
    {
     "name": "stdout",
     "output_type": "stream",
     "text": [
      "144.0\n"
     ]
    }
   ],
   "source": [
    "x = 20*7+4**2/4\n",
    "print(x)"
   ]
  },
  {
   "cell_type": "markdown",
   "metadata": {
    "id": "C6kDFnLdZYvh",
    "jp-MarkdownHeadingCollapsed": true
   },
   "source": [
    "# 3-Operadores relacionais e lógicos"
   ]
  },
  {
   "cell_type": "markdown",
   "metadata": {
    "id": "YzthSS14aQfN"
   },
   "source": [
    "3.1 - Verifique se 10 é maior ou igual a 15"
   ]
  },
  {
   "cell_type": "code",
   "execution_count": 8,
   "metadata": {
    "id": "OesUrCLEanrU"
   },
   "outputs": [
    {
     "data": {
      "text/plain": [
       "False"
      ]
     },
     "execution_count": 8,
     "metadata": {},
     "output_type": "execute_result"
    }
   ],
   "source": [
    "10 >= 15"
   ]
  },
  {
   "cell_type": "markdown",
   "metadata": {
    "id": "U-_EGuFRaqIt"
   },
   "source": [
    "3.2 - Verifique se a string **Python** é igual à string **python**"
   ]
  },
  {
   "cell_type": "code",
   "execution_count": 13,
   "metadata": {
    "id": "ci4YHjqNaybe"
   },
   "outputs": [
    {
     "data": {
      "text/plain": [
       "False"
      ]
     },
     "execution_count": 13,
     "metadata": {},
     "output_type": "execute_result"
    }
   ],
   "source": [
    "\"Python\" == \"python\""
   ]
  },
  {
   "cell_type": "markdown",
   "metadata": {
    "id": "ZPeYhDm4ay7y"
   },
   "source": [
    "3.3 - Verifique se 100 é menor que 59 **E** se 200 é maior ou igual a 159"
   ]
  },
  {
   "cell_type": "code",
   "execution_count": 52,
   "metadata": {
    "id": "Kg0jGvZcbVyn"
   },
   "outputs": [
    {
     "data": {
      "text/plain": [
       "False"
      ]
     },
     "execution_count": 52,
     "metadata": {},
     "output_type": "execute_result"
    }
   ],
   "source": [
    "100 < 59 and 200 >= 159"
   ]
  },
  {
   "cell_type": "markdown",
   "metadata": {
    "id": "c6EP_2UMbW0f"
   },
   "source": [
    "3.4 - Verifique se 100 é maior que 48 **OU** a string **Python** é igual à string **python**"
   ]
  },
  {
   "cell_type": "code",
   "execution_count": 15,
   "metadata": {
    "id": "JJq4faC4bujK"
   },
   "outputs": [
    {
     "data": {
      "text/plain": [
       "True"
      ]
     },
     "execution_count": 15,
     "metadata": {},
     "output_type": "execute_result"
    }
   ],
   "source": [
    "100 > 48 or \"Python\" == \"python\""
   ]
  },
  {
   "cell_type": "markdown",
   "metadata": {
    "id": "YxYevyaabvOX"
   },
   "source": [
    "3.5 - Faça a negação da expressão `10 > 3`"
   ]
  },
  {
   "cell_type": "code",
   "execution_count": 17,
   "metadata": {
    "id": "Rd8QL7ezb2HY"
   },
   "outputs": [
    {
     "data": {
      "text/plain": [
       "False"
      ]
     },
     "execution_count": 17,
     "metadata": {},
     "output_type": "execute_result"
    }
   ],
   "source": [
    "not 10 > 3"
   ]
  },
  {
   "cell_type": "code",
   "execution_count": 58,
   "metadata": {},
   "outputs": [
    {
     "name": "stdout",
     "output_type": "stream",
     "text": [
      "it a Coisa\n",
      "i\n"
     ]
    }
   ],
   "source": [
    "nome = \"it\"  \n",
    "sobrenome = \"a Coisa\"\n",
    "nome_completo = nome + \" \" + sobrenome \n",
    "print(nome_completo)\n",
    "print(nome[0])"
   ]
  },
  {
   "cell_type": "markdown",
   "metadata": {
    "id": "j1ZS20wdb2h2"
   },
   "source": [
    "# 4 - Trabalhando com strings"
   ]
  },
  {
   "cell_type": "markdown",
   "metadata": {
    "id": "hbYR3j71b_Rm"
   },
   "source": [
    "4.1 - Dada a frase **Eu amo programar na linguagem Python!**, utilize um método que retorne **EU AMO PROGRAMAR NA LINGUAGEM PYTHON!**"
   ]
  },
  {
   "cell_type": "code",
   "execution_count": 7,
   "metadata": {
    "id": "TEv1Nqzuct2t"
   },
   "outputs": [
    {
     "data": {
      "text/plain": [
       "'EU AMO PROGRAMAR NA LINGUAGEM PYTHON!'"
      ]
     },
     "execution_count": 7,
     "metadata": {},
     "output_type": "execute_result"
    }
   ],
   "source": [
    "texto =  \"Eu amo programar na linguagem Python!\"\n",
    "texto.upper()"
   ]
  },
  {
   "cell_type": "markdown",
   "metadata": {
    "id": "qQwDk-qZczji"
   },
   "source": [
    "4.2 - Dada a frase **Eu amo programar na linguagem Python!**, utilize f-strings e a técnica de slicing para retornar a frase **Amo Python!**\n",
    "\n",
    "**Atenção:** a letra **A** da palavra **amo** deve ser maiúscula!"
   ]
  },
  {
   "cell_type": "code",
   "execution_count": 20,
   "metadata": {
    "id": "pz0n5VJ2dVVF"
   },
   "outputs": [
    {
     "name": "stdout",
     "output_type": "stream",
     "text": [
      "Amo Python!\n"
     ]
    }
   ],
   "source": [
    "texto = \" Eu amo programar na linguagem Python!\"\n",
    "texto = texto.split(\" \")\n",
    "# print(texto) # lista\n",
    "# print(texto[2],texto[6] ) # texto amo Python!\n",
    "\n",
    "amo = texto[2]\n",
    "amo = amo.capitalize()\n",
    "\n",
    "frase = f\"{amo} {texto[6]}\"\n",
    "print(frase)"
   ]
  },
  {
   "cell_type": "code",
   "execution_count": 26,
   "metadata": {},
   "outputs": [],
   "source": [
    "frase = \" Eu amo programar na linguagem Python!\"\n",
    "amo = frase[4:7]\n",
    "pYthon! = frase[]"
   ]
  },
  {
   "cell_type": "markdown",
   "metadata": {
    "id": "ne3RJXG3dXCb"
   },
   "source": [
    "# 5 - Estruturas de dados"
   ]
  },
  {
   "cell_type": "markdown",
   "metadata": {
    "id": "_WoT67vzeMw2"
   },
   "source": [
    "## 5.1 - Listas"
   ]
  },
  {
   "cell_type": "markdown",
   "metadata": {
    "id": "UvOoLrAMebiU"
   },
   "source": [
    "5.1.1 - Dada a lista abaixo, aplique as seguintes operações:"
   ]
  },
  {
   "cell_type": "code",
   "execution_count": 90,
   "metadata": {
    "id": "Hw5DT1bgeiZG"
   },
   "outputs": [],
   "source": [
    "lista = [1, 100, 'Instagram', 'Python', 100, True, 0, False]"
   ]
  },
  {
   "cell_type": "markdown",
   "metadata": {
    "id": "HfSm-nzoevmr"
   },
   "source": [
    "- adicione o elemento `Senai Ary Torres` no final da lista"
   ]
  },
  {
   "cell_type": "code",
   "execution_count": 91,
   "metadata": {
    "id": "0XH-_N5De9rK"
   },
   "outputs": [
    {
     "name": "stdout",
     "output_type": "stream",
     "text": [
      "[1, 100, 'Instagram', 'Python', 100, True, 0, False, 'Senai Ary Torres']\n"
     ]
    }
   ],
   "source": [
    "lista.append(\"Senai Ary Torres\")\n",
    "print(lista)"
   ]
  },
  {
   "cell_type": "markdown",
   "metadata": {
    "id": "e9WwwhGee-Ej"
   },
   "source": [
    "- adicione o elemento `149.50` na segunda posição da lista"
   ]
  },
  {
   "cell_type": "code",
   "execution_count": 92,
   "metadata": {
    "id": "CFMD7ElMfGvj"
   },
   "outputs": [
    {
     "name": "stdout",
     "output_type": "stream",
     "text": [
      "[1, 149.5, 100, 'Instagram', 'Python', 100, True, 0, False, 'Senai Ary Torres']\n"
     ]
    }
   ],
   "source": [
    "lista.insert(1, 149.50)\n",
    "print(lista)"
   ]
  },
  {
   "cell_type": "markdown",
   "metadata": {
    "id": "myPy5mw-fHHt"
   },
   "source": [
    "- remova o elemento `Instagram` da lista"
   ]
  },
  {
   "cell_type": "code",
   "execution_count": 93,
   "metadata": {
    "id": "nnt6MBXbfQ_Y"
   },
   "outputs": [
    {
     "name": "stdout",
     "output_type": "stream",
     "text": [
      "[1, 149.5, 100, 'Python', 100, True, 0, False, 'Senai Ary Torres']\n"
     ]
    }
   ],
   "source": [
    "lista.remove(\"Instagram\")\n",
    "print(lista)"
   ]
  },
  {
   "cell_type": "markdown",
   "metadata": {
    "id": "AGHQvhUnfX6j"
   },
   "source": [
    "- modifique o elemento `False` para `True`"
   ]
  },
  {
   "cell_type": "code",
   "execution_count": 94,
   "metadata": {
    "id": "tomz7M70ffZV"
   },
   "outputs": [],
   "source": [
    "lista[True] = False"
   ]
  },
  {
   "cell_type": "markdown",
   "metadata": {
    "id": "Q01bBXYVfk1P"
   },
   "source": [
    "- verifique se o elemento de índice 5 é igual ao elemento de índice 7"
   ]
  },
  {
   "cell_type": "code",
   "execution_count": 95,
   "metadata": {
    "id": "1UYiV5qxgNnr"
   },
   "outputs": [
    {
     "data": {
      "text/plain": [
       "False"
      ]
     },
     "execution_count": 95,
     "metadata": {},
     "output_type": "execute_result"
    }
   ],
   "source": [
    "lista[5] == lista[7]"
   ]
  },
  {
   "cell_type": "markdown",
   "metadata": {
    "id": "pNBjkmKZgXos"
   },
   "source": [
    "## 5.2 - Dicionários"
   ]
  },
  {
   "cell_type": "markdown",
   "metadata": {
    "id": "R3Z98tscgcf_"
   },
   "source": [
    "5.2.1 - Dado o dicionário abaixo, aplique as seguintes operações:"
   ]
  },
  {
   "cell_type": "code",
   "execution_count": 14,
   "metadata": {
    "id": "6vp3CybSgknp"
   },
   "outputs": [],
   "source": [
    "dados = {\n",
    "    'nome': 'Senai Ary Torres',\n",
    "    'curso': 'Primeiros passos na linguagem Python',\n",
    "    'modulo': 'Exercícios de fixação',\n",
    "    'nota obtida': 9.2\n",
    "}"
   ]
  },
  {
   "cell_type": "markdown",
   "metadata": {
    "id": "nPdZBOFrhVnT"
   },
   "source": [
    "- imprima qual é o nome do curso"
   ]
  },
  {
   "cell_type": "code",
   "execution_count": 15,
   "metadata": {
    "id": "5keoeALRhblr"
   },
   "outputs": [
    {
     "name": "stdout",
     "output_type": "stream",
     "text": [
      "Primeiros passos na linguagem Python\n"
     ]
    }
   ],
   "source": [
    "print(dados[\"curso\"])"
   ]
  },
  {
   "cell_type": "markdown",
   "metadata": {
    "id": "ANV3fUCNhcaN"
   },
   "source": [
    "- altere a nota obtida para **10.0**"
   ]
  },
  {
   "cell_type": "code",
   "execution_count": 16,
   "metadata": {
    "id": "kKob9MQuh3cG"
   },
   "outputs": [
    {
     "name": "stdout",
     "output_type": "stream",
     "text": [
      "10.0\n"
     ]
    }
   ],
   "source": [
    "dados[\"nota obtida\"]= 10.0\n",
    "print(dados[\"nota obtida\"])"
   ]
  },
  {
   "cell_type": "markdown",
   "metadata": {
    "id": "vdIvHcr6iEJx"
   },
   "source": [
    "- apague o elemento `modulo`"
   ]
  },
  {
   "cell_type": "code",
   "execution_count": 17,
   "metadata": {
    "id": "bGRX9WyiiI67"
   },
   "outputs": [],
   "source": [
    "del dados[\"modulo\"]"
   ]
  },
  {
   "cell_type": "markdown",
   "metadata": {
    "id": "QV7RemJAiMmT"
   },
   "source": [
    "- imprima o nome do curso, com a **primeira letra de cada palavra** em **maiúsculo**"
   ]
  },
  {
   "cell_type": "code",
   "execution_count": 19,
   "metadata": {
    "id": "WPBGOUCpiXeX"
   },
   "outputs": [
    {
     "data": {
      "text/plain": [
       "'Primeiros Passos Na Linguagem Python'"
      ]
     },
     "execution_count": 19,
     "metadata": {},
     "output_type": "execute_result"
    }
   ],
   "source": [
    "dados[\"curso\"].title()"
   ]
  },
  {
   "cell_type": "markdown",
   "metadata": {
    "id": "rOK_aHONjHZ_"
   },
   "source": [
    "## 5.3 - Tuplas"
   ]
  },
  {
   "cell_type": "markdown",
   "metadata": {
    "id": "pF_1lozMjK4x"
   },
   "source": [
    "5.3.1 - Dada a tupla abaixo, imprima:"
   ]
  },
  {
   "cell_type": "code",
   "execution_count": 5,
   "metadata": {
    "id": "7Kn69zhEjUqD"
   },
   "outputs": [],
   "source": [
    "tupla = (1, 2, 3, (4, 5), (6, 7))"
   ]
  },
  {
   "cell_type": "markdown",
   "metadata": {
    "id": "JUYB_yXujYkv"
   },
   "source": [
    "- o elemento **1**"
   ]
  },
  {
   "cell_type": "code",
   "execution_count": 11,
   "metadata": {
    "id": "RGtzTc0JjeRS"
   },
   "outputs": [
    {
     "name": "stdout",
     "output_type": "stream",
     "text": [
      "1\n"
     ]
    }
   ],
   "source": [
    "print(tupla[0])"
   ]
  },
  {
   "cell_type": "markdown",
   "metadata": {
    "id": "HJzRLhmHjfNI"
   },
   "source": [
    "- o elemento **4**"
   ]
  },
  {
   "cell_type": "code",
   "execution_count": 13,
   "metadata": {
    "id": "gmwnAUqLjjOg"
   },
   "outputs": [
    {
     "name": "stdout",
     "output_type": "stream",
     "text": [
      "4\n"
     ]
    }
   ],
   "source": [
    "print(tupla[3][0])"
   ]
  },
  {
   "cell_type": "markdown",
   "metadata": {
    "id": "Rgt8QUM4jkdz"
   },
   "source": [
    "- o elemento **(6, 7)**"
   ]
  },
  {
   "cell_type": "code",
   "execution_count": 14,
   "metadata": {
    "id": "aN4yUcpBjpNd"
   },
   "outputs": [
    {
     "name": "stdout",
     "output_type": "stream",
     "text": [
      "(6, 7)\n"
     ]
    }
   ],
   "source": [
    "print(tupla[4])"
   ]
  },
  {
   "cell_type": "markdown",
   "metadata": {
    "id": "c8bWuxtpjprd"
   },
   "source": [
    "## 5.4 - Conjuntos (set)"
   ]
  },
  {
   "cell_type": "markdown",
   "metadata": {
    "id": "gh0RB2CDj3n-"
   },
   "source": [
    "5.4.1 - Dados os conjuntos abaixo, aplique as seguintes operações:"
   ]
  },
  {
   "cell_type": "code",
   "execution_count": 16,
   "metadata": {
    "id": "PEYG5KI8kE1c"
   },
   "outputs": [],
   "source": [
    "conj_a = {1, 2, 3, 4, 5}\n",
    "conj_b = {6, 7, 3, 8, 9}"
   ]
  },
  {
   "cell_type": "markdown",
   "metadata": {
    "id": "7AkF9OoAkMyC"
   },
   "source": [
    "- a **união** dos conjuntos"
   ]
  },
  {
   "cell_type": "code",
   "execution_count": 18,
   "metadata": {
    "id": "PNYWbYNCkR5_"
   },
   "outputs": [
    {
     "name": "stdout",
     "output_type": "stream",
     "text": [
      "{1, 2, 3, 4, 5, 6, 7, 8, 9}\n"
     ]
    }
   ],
   "source": [
    "conj_a_b = conj_a.union(conj_b)\n",
    "print(conj_a_b)"
   ]
  },
  {
   "cell_type": "markdown",
   "metadata": {
    "id": "9QdOZOcPkSUo"
   },
   "source": [
    "- a **interseção** dos conjuntos"
   ]
  },
  {
   "cell_type": "code",
   "execution_count": 20,
   "metadata": {
    "id": "i2pkuoeOkY0C"
   },
   "outputs": [
    {
     "name": "stdout",
     "output_type": "stream",
     "text": [
      "{3}\n"
     ]
    }
   ],
   "source": [
    "conj_a_b_intersecao = conj_a.intersection(conj_b)\n",
    "print(conj_a_b_intersecao)"
   ]
  },
  {
   "cell_type": "markdown",
   "metadata": {
    "id": "XH22c6THkeJK"
   },
   "source": [
    "# 6-Estruturas de repetição & condicionais"
   ]
  },
  {
   "cell_type": "markdown",
   "metadata": {
    "id": "ti9XbHbeknnG"
   },
   "source": [
    "6.1 - Desafio 🔥🔥🔥\n",
    "\n",
    "Neste desafio, vamos aumentar um pouquinho o nível de complexidade do exercício. Vamos utilizar os conceitos que praticamos acima, junto com as estruturas de repetição e condicionais para resolver o problema.\n",
    "\n",
    "**Problema**\n",
    "\n",
    "A lista abaixo contém as seguintes informações de pessoas que pretendem dirigir:\n",
    "\n",
    "- `nome`: nome da pessoa\n",
    "- `carteira`: **`True`** para as que possuem, **`False`** para as que não possuem\n",
    "- `idade`:a idade da pessoa\n",
    "\n",
    "Precisamos percorrer toda a lista e verificar se a pessoa pode ou não dirigir. Só podem dirigir as que possuem carteira **E** que a idade é maior ou igual a 18 anos.\n",
    "\n",
    "- para as pessoas que podem dirigir, imprima a frase: **`nome pode dirigir.`**\n",
    "- para as que não podem, imprima: **`nome não pode dirigir!`**"
   ]
  },
  {
   "cell_type": "code",
   "execution_count": 17,
   "metadata": {
    "id": "aes_vaSWlBhN"
   },
   "outputs": [],
   "source": [
    "pessoas = [ ('João', True, 21), ('Gabriel', False, 25), ('Ana', True, 20), ('Victor', True, 30), ('Lucas', False, 15) ]"
   ]
  },
  {
   "cell_type": "code",
   "execution_count": 44,
   "metadata": {
    "id": "6y2POVX1oRVQ"
   },
   "outputs": [
    {
     "name": "stdout",
     "output_type": "stream",
     "text": [
      "João pode dirigir.\n",
      "Gabriel não pode dirigir.\n",
      "Ana pode dirigir.\n",
      "Victor pode dirigir.\n",
      "Lucas não pode dirigir.\n"
     ]
    }
   ],
   "source": [
    "# for condutor in pessoas:\n",
    "#    print(condutor)\n",
    "\n",
    "# for condutor in pessoas:\n",
    "#    if condutor[\"carteira\"] == True:\n",
    "#        print(f\"{condutor[\"nome\"]}pode dirigir.\")\n",
    "#    else condutor[\"carteira\"] == False:\n",
    "#        print(f\"{condutor[\"nome\"]} não pode dirigir.\")\n",
    "\n",
    "for pessoa in pessoas:\n",
    "    nome = pessoa[0];\n",
    "    carteira = pessoa[1];\n",
    "    idade = pessoa[2];\n",
    "\n",
    "    if carteira:\n",
    "        print(f\"{nome} pode dirigir.\")\n",
    "    else:\n",
    "        print(f\"{nome} não pode dirigir.\") \n",
    "        "
   ]
  },
  {
   "cell_type": "markdown",
   "metadata": {
    "id": "3YqgEmY1pRrK"
   },
   "source": [
    "# 7-Funções"
   ]
  },
  {
   "cell_type": "markdown",
   "metadata": {
    "id": "ZDSVcy7zpnfj"
   },
   "source": [
    "7.1 - Desafio 🔥🔥🔥\n",
    "\n",
    "a) Crie uma função que receba 3 argumentos:\n",
    "\n",
    "- nome\n",
    "- carteira (True ou False)\n",
    "- idade\n",
    "\n",
    "e verifique se a pessoa pode ou não dirigir. \n",
    "- caso possa dirigir, a função deve imprimir a frase **`nome pode dirigir.`**\n",
    "- caso negativo, deve imprimir **`nome não pode dirigir!`**\n",
    "\n",
    "b) **reescreva a solução do último desafio utilizando a função que você criou!**"
   ]
  },
  {
   "cell_type": "code",
   "execution_count": 16,
   "metadata": {
    "id": "O85c7Qt-qqGf"
   },
   "outputs": [
    {
     "name": "stdout",
     "output_type": "stream",
     "text": [
      "Insira o nome: \n"
     ]
    },
    {
     "name": "stdin",
     "output_type": "stream",
     "text": [
      "None mi\n"
     ]
    },
    {
     "name": "stdout",
     "output_type": "stream",
     "text": [
      "Tem carteira? Digite True ou False \n"
     ]
    },
    {
     "name": "stdin",
     "output_type": "stream",
     "text": [
      "None not\n"
     ]
    },
    {
     "name": "stdout",
     "output_type": "stream",
     "text": [
      "Insira a idade: \n"
     ]
    },
    {
     "name": "stdin",
     "output_type": "stream",
     "text": [
      "None 18\n"
     ]
    },
    {
     "name": "stdout",
     "output_type": "stream",
     "text": [
      "Entrada inválida, insira novamente !\n",
      "Não pode dirigir!\n"
     ]
    }
   ],
   "source": [
    "nome = input(print(\"Insira o nome: \"))\n",
    "carteira = (input(print(\"Tem carteira? Digite True ou False \")))\n",
    "idade = int(input(print(\"Insira a idade: \")))\n",
    "\n",
    "if carteira.lower() == \"true\":\n",
    "    carteira = True       \n",
    "elif carteira.lower() == \"false\":\n",
    "    carteira = False\n",
    "else : \n",
    "    print(\"Entrada inválida, insira novamente !\")\n",
    "\n",
    "if carteira == True and idade > 17:\n",
    "    print(\"Ok!\")\n",
    "else:\n",
    "    print(\"Não pode dirigir!\")\n"
   ]
  },
  {
   "cell_type": "code",
   "execution_count": null,
   "metadata": {},
   "outputs": [],
   "source": []
  },
  {
   "cell_type": "code",
   "execution_count": null,
   "metadata": {},
   "outputs": [],
   "source": []
  }
 ],
 "metadata": {
  "colab": {
   "collapsed_sections": [],
   "name": "Mão na massa.ipynb",
   "provenance": []
  },
  "kernelspec": {
   "display_name": "Python 3 (ipykernel)",
   "language": "python",
   "name": "python3"
  },
  "language_info": {
   "codemirror_mode": {
    "name": "ipython",
    "version": 3
   },
   "file_extension": ".py",
   "mimetype": "text/x-python",
   "name": "python",
   "nbconvert_exporter": "python",
   "pygments_lexer": "ipython3",
   "version": "3.11.7"
  }
 },
 "nbformat": 4,
 "nbformat_minor": 4
}
