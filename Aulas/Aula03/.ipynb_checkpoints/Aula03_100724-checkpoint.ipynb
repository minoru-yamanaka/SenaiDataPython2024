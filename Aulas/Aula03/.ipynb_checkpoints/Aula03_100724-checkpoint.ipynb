{
 "cells": [
  {
   "cell_type": "code",
   "execution_count": 3,
   "id": "cebdeff5-15a3-4b85-9806-16bee9d2fd44",
   "metadata": {},
   "outputs": [
    {
     "name": "stdout",
     "output_type": "stream",
     "text": [
      "Insira um número:\n"
     ]
    },
    {
     "name": "stdin",
     "output_type": "stream",
     "text": [
      "None 10\n"
     ]
    }
   ],
   "source": [
    "# Inserir um número \n",
    "int(input(print(\"Insira um número:\")));"
   ]
  },
  {
   "cell_type": "code",
   "execution_count": 19,
   "id": "8690228e-3cab-4d97-a11c-3d0b00d41b2e",
   "metadata": {},
   "outputs": [
    {
     "name": "stdout",
     "output_type": "stream",
     "text": [
      "Insira o 1° número:\n"
     ]
    },
    {
     "name": "stdin",
     "output_type": "stream",
     "text": [
      "None 10\n"
     ]
    },
    {
     "name": "stdout",
     "output_type": "stream",
     "text": [
      "Insira o 2° número:\n"
     ]
    },
    {
     "name": "stdin",
     "output_type": "stream",
     "text": [
      "None 10\n"
     ]
    },
    {
     "name": "stdout",
     "output_type": "stream",
     "text": [
      "Insira o 3° número:\n"
     ]
    },
    {
     "name": "stdin",
     "output_type": "stream",
     "text": [
      "None 5.5\n"
     ]
    }
   ],
   "source": [
    "# Armazenar o valor \n",
    "num01 = int(input(print(\"Insira o 1° número:\")));\n",
    "num02 = int(input(print(\"Insira o 2° número:\")));\n",
    "num03 = float(input(print(\"Insira o 3° número:\")));"
   ]
  },
  {
   "cell_type": "code",
   "execution_count": 28,
   "id": "32fce461-d30e-406f-81fb-8b832f15c8b5",
   "metadata": {},
   "outputs": [
    {
     "name": "stdout",
     "output_type": "stream",
     "text": [
      "20\n"
     ]
    }
   ],
   "source": [
    "soma = num01+num02\n",
    "print(soma)"
   ]
  },
  {
   "cell_type": "code",
   "execution_count": 22,
   "id": "d5952faa-a455-4061-b2a4-9bce6680dfe8",
   "metadata": {},
   "outputs": [
    {
     "name": "stdout",
     "output_type": "stream",
     "text": [
      "3.6363636363636362\n"
     ]
    }
   ],
   "source": [
    "resultado = soma/num03\n",
    "print(resultado)"
   ]
  },
  {
   "cell_type": "code",
   "execution_count": 26,
   "id": "7ee21d5e-ebdc-4f21-9c29-8125295e1f8b",
   "metadata": {},
   "outputs": [
    {
     "name": "stdout",
     "output_type": "stream",
     "text": [
      "3\n",
      "3.6363636363636362\n"
     ]
    }
   ],
   "source": [
    "# conversão \n",
    "print(int(resultado))\n",
    "print(float(resultado))"
   ]
  },
  {
   "cell_type": "code",
   "execution_count": 27,
   "id": "446c531d-01ed-4aa1-90ed-b718bab6defe",
   "metadata": {},
   "outputs": [
    {
     "name": "stdout",
     "output_type": "stream",
     "text": [
      "3.64\n"
     ]
    }
   ],
   "source": [
    "# arredondou \n",
    "print(round(resultado, 2))"
   ]
  },
  {
   "cell_type": "code",
   "execution_count": 34,
   "id": "fb03cb97-f2af-48a6-b210-902f4ec95b6b",
   "metadata": {},
   "outputs": [
    {
     "name": "stdout",
     "output_type": "stream",
     "text": [
      "Sua média é 8.5\n"
     ]
    }
   ],
   "source": [
    "# média\n",
    "media = (num01+num02+num03)/3\n",
    "print(f\"Sua média é {media}\")"
   ]
  },
  {
   "cell_type": "code",
   "execution_count": 40,
   "id": "16733219-0fc9-4a6b-a417-5e1f6369beff",
   "metadata": {},
   "outputs": [
    {
     "name": "stdout",
     "output_type": "stream",
     "text": [
      "A média dos números é: 8.5 e seu tipo é: <class 'float'>\n"
     ]
    }
   ],
   "source": [
    "# Algumas funções  \n",
    "numeros = [num01, num02, num03]\n",
    "soma = sum(numeros)\n",
    "media = soma / len(numeros)\n",
    "print(f\"A média dos números é: {media} e seu tipo é: {type(media)}\")\n"
   ]
  },
  {
   "cell_type": "code",
   "execution_count": 48,
   "id": "1d066aa1-6085-49fc-aecf-5a9511b69d68",
   "metadata": {},
   "outputs": [
    {
     "name": "stdout",
     "output_type": "stream",
     "text": [
      "100\n"
     ]
    },
    {
     "data": {
      "text/plain": [
       "bool"
      ]
     },
     "execution_count": 48,
     "metadata": {},
     "output_type": "execute_result"
    }
   ],
   "source": [
    "nome_professor = \"prof\"\n",
    "nome_professor = 100\n",
    "print(f\"{nome_professor}\")\n",
    "nome_professor = True \n",
    "# (0 is false) and (1 is true) \n",
    "type(nome_professor)"
   ]
  },
  {
   "cell_type": "code",
   "execution_count": null,
   "id": "b3865693-01a6-4fb4-9c4c-c3c9f9bbbb3f",
   "metadata": {},
   "outputs": [],
   "source": []
  }
 ],
 "metadata": {
  "kernelspec": {
   "display_name": "Python 3 (ipykernel)",
   "language": "python",
   "name": "python3"
  },
  "language_info": {
   "codemirror_mode": {
    "name": "ipython",
    "version": 3
   },
   "file_extension": ".py",
   "mimetype": "text/x-python",
   "name": "python",
   "nbconvert_exporter": "python",
   "pygments_lexer": "ipython3",
   "version": "3.11.7"
  }
 },
 "nbformat": 4,
 "nbformat_minor": 5
}
