{
 "cells": [
  {
   "cell_type": "markdown",
   "id": "ce573ff1-6d86-49e4-a4e4-bc642ca94094",
   "metadata": {},
   "source": [
    "Start o servidor:\n",
    "\n",
    "(base) C:\\Users\\FIC>F:\n",
    "\n",
    "(base) F:\\>cd F:\\SenaiDataPython2024"
   ]
  },
  {
   "cell_type": "markdown",
   "id": "2efd9aa6-6bb7-4a63-9f27-ebbafc8a37e1",
   "metadata": {},
   "source": [
    "# Funções "
   ]
  },
  {
   "cell_type": "markdown",
   "id": "ae1bd49f-f0af-4b7d-8f71-ffbc0582af32",
   "metadata": {},
   "source": [
    "## Função print()"
   ]
  },
  {
   "cell_type": "code",
   "execution_count": 2,
   "id": "270b2f2d-0c7f-497a-8317-3ca87b5b6b66",
   "metadata": {},
   "outputs": [
    {
     "name": "stdout",
     "output_type": "stream",
     "text": [
      "Hello World!\n"
     ]
    }
   ],
   "source": [
    "# Exercício Função print()\n",
    "print(\"Hello World!\")"
   ]
  },
  {
   "cell_type": "markdown",
   "id": "67f286b8-16fc-4544-9df3-940272638c74",
   "metadata": {},
   "source": [
    "### exercício da Função print()"
   ]
  },
  {
   "cell_type": "code",
   "execution_count": 16,
   "id": "236e7bf8-03d4-4625-bf89-a2ffff0ccc2d",
   "metadata": {},
   "outputs": [
    {
     "name": "stdout",
     "output_type": "stream",
     "text": [
      "Eu sou 9 python 15\n"
     ]
    }
   ],
   "source": [
    "print(\"Eu sou\", 9, \"python\", 12 + 3)\n"
   ]
  },
  {
   "cell_type": "code",
   "execution_count": 17,
   "id": "ef66c5f2-3914-4da2-ae4e-d52a06e6959d",
   "metadata": {},
   "outputs": [],
   "source": [
    "idade = 29 "
   ]
  },
  {
   "cell_type": "code",
   "execution_count": 31,
   "id": "6971d3d0-728c-4298-b87d-9a46890194e8",
   "metadata": {},
   "outputs": [
    {
     "name": "stdout",
     "output_type": "stream",
     "text": [
      "34\n"
     ]
    }
   ],
   "source": [
    "print(idade + 5)"
   ]
  },
  {
   "cell_type": "markdown",
   "id": "ee21d5b9-f40a-43dd-b5e8-eda01277a583",
   "metadata": {},
   "source": [
    "## Função input()"
   ]
  },
  {
   "cell_type": "code",
   "execution_count": 32,
   "id": "47658e50-1246-40ff-98fe-e063315b0347",
   "metadata": {},
   "outputs": [
    {
     "name": "stdout",
     "output_type": "stream",
     "text": [
      "Ano de nascimento\n"
     ]
    },
    {
     "name": "stdout",
     "output_type": "stream",
     "text": [
      "None 95\n"
     ]
    },
    {
     "name": "stdout",
     "output_type": "stream",
     "text": [
      "Você nasceu em  95\n"
     ]
    }
   ],
   "source": [
    "# Exercício input()\n",
    "ano = input(print(\"Ano de nascimento\"))\n",
    "print(\"Você nasceu em \", ano, )"
   ]
  },
  {
   "cell_type": "markdown",
   "id": "bc9debc3-398c-4209-ae5f-10b25e0d5b10",
   "metadata": {},
   "source": [
    "### Calculadora"
   ]
  },
  {
   "cell_type": "code",
   "execution_count": 5,
   "id": "04276f2b-8970-488a-b814-9ae3e91385f0",
   "metadata": {},
   "outputs": [
    {
     "name": "stdout",
     "output_type": "stream",
     "text": [
      "Insira o 1° número:  10\n"
     ]
    }
   ],
   "source": [
    "num1 = int(input(\"Insira o 1° número: \"))"
   ]
  },
  {
   "cell_type": "code",
   "execution_count": 6,
   "id": "22b51a6d-32c1-47dd-a0e4-079b99867875",
   "metadata": {},
   "outputs": [
    {
     "name": "stdout",
     "output_type": "stream",
     "text": [
      "Insira o 2° número:  20\n"
     ]
    }
   ],
   "source": [
    "num2 = int(input(\"Insira o 2° número: \"))"
   ]
  },
  {
   "cell_type": "code",
   "execution_count": 7,
   "id": "36ac8956-26c9-4207-846a-1ab893f83f05",
   "metadata": {},
   "outputs": [
    {
     "name": "stdout",
     "output_type": "stream",
     "text": [
      "30\n"
     ]
    }
   ],
   "source": [
    "print(num1 + num2)"
   ]
  },
  {
   "cell_type": "code",
   "execution_count": 11,
   "id": "eb16611c-5d5c-4ec4-ac22-98c87e668cef",
   "metadata": {},
   "outputs": [
    {
     "data": {
      "text/plain": [
       "int"
      ]
     },
     "execution_count": 11,
     "metadata": {},
     "output_type": "execute_result"
    }
   ],
   "source": [
    "type(num1)"
   ]
  },
  {
   "cell_type": "markdown",
   "id": "2aa51394-cd96-4e75-9d36-2d4275092e07",
   "metadata": {},
   "source": [
    "## Operadores aritméticos"
   ]
  },
  {
   "cell_type": "markdown",
   "id": "64690407-df18-404e-8c76-e746c92414f7",
   "metadata": {},
   "source": [
    "### Soma, subtração, multiplicação e divisão."
   ]
  },
  {
   "cell_type": "code",
   "execution_count": 12,
   "id": "d1823b06-d206-47ea-ab9b-00a3145084b9",
   "metadata": {},
   "outputs": [
    {
     "name": "stdout",
     "output_type": "stream",
     "text": [
      "30\n"
     ]
    }
   ],
   "source": [
    "print(10+20)"
   ]
  },
  {
   "cell_type": "code",
   "execution_count": 16,
   "id": "b6452686-607a-42ed-ae3e-7f552442d33f",
   "metadata": {},
   "outputs": [
    {
     "name": "stdout",
     "output_type": "stream",
     "text": [
      "36\n"
     ]
    }
   ],
   "source": [
    "print(123-87)"
   ]
  },
  {
   "cell_type": "code",
   "execution_count": 18,
   "id": "c4da08d1-2d58-4fc6-bcf0-cd651a11ef99",
   "metadata": {},
   "outputs": [
    {
     "name": "stdout",
     "output_type": "stream",
     "text": [
      "81\n"
     ]
    }
   ],
   "source": [
    "print(9*9)"
   ]
  },
  {
   "cell_type": "code",
   "execution_count": 24,
   "id": "97b00ae0-0822-47f4-8435-d157b4d8c11b",
   "metadata": {},
   "outputs": [
    {
     "name": "stdout",
     "output_type": "stream",
     "text": [
      "2\n"
     ]
    }
   ],
   "source": [
    "print(2%3)"
   ]
  },
  {
   "cell_type": "code",
   "execution_count": 30,
   "id": "ca9440fd-c3fb-4fcb-8b23-6ffd0dd489ee",
   "metadata": {},
   "outputs": [
    {
     "name": "stdout",
     "output_type": "stream",
     "text": [
      "10.0 e 5.608695652173913\n"
     ]
    }
   ],
   "source": [
    "print((100/10), \"e\" ,(129/23))"
   ]
  },
  {
   "cell_type": "markdown",
   "id": "ca8435ca-4166-4bfa-b4bb-b8de0c137ea6",
   "metadata": {},
   "source": [
    "### Divisão com resultado inteiro"
   ]
  },
  {
   "cell_type": "code",
   "execution_count": 31,
   "id": "4c0fa268-6fec-4d23-b33f-5941d4ad40d2",
   "metadata": {},
   "outputs": [
    {
     "name": "stdout",
     "output_type": "stream",
     "text": [
      "5\n"
     ]
    }
   ],
   "source": [
    "print(129//23) # retorna o valor inteiro "
   ]
  },
  {
   "cell_type": "markdown",
   "id": "0ce502c0-6a3b-490d-b6b2-8f2f2abc2cc2",
   "metadata": {},
   "source": [
    "### Módulo ou Resto da divisão "
   ]
  },
  {
   "cell_type": "code",
   "execution_count": 33,
   "id": "0d2ecbd5-29ef-41b4-9998-be9e5864fb5b",
   "metadata": {},
   "outputs": [
    {
     "name": "stdout",
     "output_type": "stream",
     "text": [
      "0\n"
     ]
    }
   ],
   "source": [
    "print(9%3) # resto da divisão "
   ]
  },
  {
   "cell_type": "markdown",
   "id": "29b8f527-02a1-4ef3-bbed-d1bf864c9796",
   "metadata": {},
   "source": [
    "### Exponenciação "
   ]
  },
  {
   "cell_type": "code",
   "execution_count": 37,
   "id": "a8665b1b-c2f9-4743-99de-8a7ceca3744f",
   "metadata": {},
   "outputs": [
    {
     "name": "stdout",
     "output_type": "stream",
     "text": [
      "4 e 27\n"
     ]
    }
   ],
   "source": [
    "print(2**2, \"e\" , 3**3)"
   ]
  },
  {
   "cell_type": "markdown",
   "id": "31ff1a8f-9823-4ae3-9167-e64ad4ce593f",
   "metadata": {},
   "source": [
    "### Precedência dos operadores "
   ]
  },
  {
   "cell_type": "code",
   "execution_count": 46,
   "id": "24b12c5f-3bd4-46ec-a0a2-90441aa73e6d",
   "metadata": {},
   "outputs": [
    {
     "name": "stdout",
     "output_type": "stream",
     "text": [
      "55\n"
     ]
    }
   ],
   "source": [
    "print(5+25*2) # primeiro a multiplicação depois a soma "
   ]
  },
  {
   "cell_type": "code",
   "execution_count": 45,
   "id": "bb500896-f0ab-4ce2-8cda-761dfe50de71",
   "metadata": {},
   "outputs": [
    {
     "name": "stdout",
     "output_type": "stream",
     "text": [
      "60\n"
     ]
    }
   ],
   "source": [
    "print((5+25)*2)"
   ]
  },
  {
   "cell_type": "markdown",
   "id": "6bd70a46-cb53-4a44-ae07-9a27bd337434",
   "metadata": {},
   "source": [
    "### Desenvolva um programa que solicite de três números ao usuário \n",
    "soma dos 2 primeiros números e multiplicar o resultado pelo terceiro "
   ]
  },
  {
   "cell_type": "code",
   "execution_count": 50,
   "id": "77ee14ea-85ad-493c-afe4-3154d9a20ae6",
   "metadata": {},
   "outputs": [
    {
     "name": "stdout",
     "output_type": "stream",
     "text": [
      "Insira o 1° número:  10\n",
      "Insira o 2° número:  20\n",
      "Insira o 3° número:  30\n"
     ]
    },
    {
     "name": "stdout",
     "output_type": "stream",
     "text": [
      "O resultado da soma do 1° número ( 10 ) + o 2° número ( 20 ) e multiplicado pelo 3° número ( 30 ) é:  900\n"
     ]
    }
   ],
   "source": [
    "num1 = int(input(\"Insira o 1° número: \"))\n",
    "num2 = int(input(\"Insira o 2° número: \"))\n",
    "num3 = int(input(\"Insira o 3° número: \"))\n",
    "resultado = (num1 + num2) * num3\n",
    "print(\"O resultado da soma do 1° número (\",num1, \") + o 2° número (\", num2 ,\") e multiplicado pelo 3° número (\", num3,\") é: \", resultado )"
   ]
  },
  {
   "cell_type": "code",
   "execution_count": 6,
   "id": "02a3692b-2910-4d3e-bdd6-5c9ed28efe05",
   "metadata": {
    "scrolled": true
   },
   "outputs": [
    {
     "name": "stdout",
     "output_type": "stream",
     "text": [
      "Insira o 1° número:  10\n",
      "Insira o 2° número:  20\n",
      "Insira o 3° número:  30\n"
     ]
    },
    {
     "name": "stdout",
     "output_type": "stream",
     "text": [
      "O resultado da soma do 1° número 10 + o 2° número 20 e multiplicado pelo 3° número 30 é: 900\n"
     ]
    }
   ],
   "source": [
    "num1 = int(input(\"Insira o 1° número: \"))\n",
    "num2 = int(input(\"Insira o 2° número: \"))\n",
    "num3 = int(input(\"Insira o 3° número: \"))\n",
    "resultado = (num1 + num2) * num3\n",
    "print(f\"O resultado da soma do 1° número {num1} + o 2° número {num2} e multiplicado pelo 3° número {num3} é: {resultado}\")"
   ]
  },
  {
   "cell_type": "code",
   "execution_count": 7,
   "id": "1f2a9055-bd6f-47c9-bca5-0fedd69f5885",
   "metadata": {},
   "outputs": [
    {
     "name": "stdout",
     "output_type": "stream",
     "text": [
      "Insira o 1° número:  10\n",
      "Insira o 2° número:  10\n",
      "Insira o 3° número:  10\n"
     ]
    },
    {
     "name": "stdout",
     "output_type": "stream",
     "text": [
      "O resultado da soma do 1° número 10 + o 2° número 10 e multiplicado pelo 3° número 10 é: 10.0\n"
     ]
    }
   ],
   "source": [
    "num1 = int(input(\"Insira o número do 1° trimestre: \"))\n",
    "num2 = int(input(\"Insira o número do 2° trimestre: \"))\n",
    "num3 = int(input(\"Insira o número do 3° trimestre: \"))\n",
    "resultado = (num1 + num2 + num3)/3\n",
    "print(f\"O resultado da soma do 1° número {num1} + o 2° número {num2} e multiplicado pelo 3° número {num3} é: {resultado}\")"
   ]
  },
  {
   "cell_type": "code",
   "execution_count": null,
   "id": "531325d9-a372-4724-bab9-6a03e591cc9e",
   "metadata": {},
   "outputs": [],
   "source": []
  }
 ],
 "metadata": {
  "kernelspec": {
   "display_name": "Python 3 (ipykernel)",
   "language": "python",
   "name": "python3"
  },
  "language_info": {
   "codemirror_mode": {
    "name": "ipython",
    "version": 3
   },
   "file_extension": ".py",
   "mimetype": "text/x-python",
   "name": "python",
   "nbconvert_exporter": "python",
   "pygments_lexer": "ipython3",
   "version": "3.11.7"
  }
 },
 "nbformat": 4,
 "nbformat_minor": 5
}
